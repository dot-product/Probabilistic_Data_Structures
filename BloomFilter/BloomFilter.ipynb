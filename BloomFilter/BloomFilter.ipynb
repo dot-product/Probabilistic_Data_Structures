{
 "cells": [
  {
   "cell_type": "markdown",
   "metadata": {},
   "source": [
    "## Bloom Filter:\n",
    "\n",
    "   * It solves the set membership problem \n",
    "   * Three parameters k : Hash functions, m : Bloom filter size to store bits, false positive rate\n",
    "   * Space and time tradeoff\n",
    "   * Hash functions used in a Bloom Filter should be independent and uniformly distributed"
   ]
  },
  {
   "cell_type": "code",
   "execution_count": 2,
   "metadata": {},
   "outputs": [],
   "source": [
    "import math\n",
    "import mmh3\n",
    "from bitarray import bitarray\n",
    "\n"
   ]
  },
  {
   "cell_type": "code",
   "execution_count": 3,
   "metadata": {},
   "outputs": [],
   "source": [
    "def get_data(file):\n",
    "    \n",
    "    in_file = open(file,'r+')\n",
    "    for line in in_file:\n",
    "        \n",
    "        ip = line.strip().replace('.','')\n",
    "        yield int(ip)\n",
    "    \n",
    "    yield -1\n",
    "\n"
   ]
  },
  {
   "cell_type": "code",
   "execution_count": 4,
   "metadata": {},
   "outputs": [],
   "source": [
    "class BloomFilter():\n",
    "    \n",
    "    def __init__(self,count, fp):\n",
    "        \n",
    "        self.count = count\n",
    "        self.fp = fp\n",
    "        self.no_hash = 0\n",
    "        self.size,self.no_hash = self.get_size(count, fp)\n",
    "        self.bloom = bitarray(self.size)\n",
    "        \n",
    "    def add(self, item):\n",
    "        \n",
    "        for i in range(self.no_hash):\n",
    "            digest = mmh3.hash(item, i) %self.size\n",
    "            self.bloom[digest] = True\n",
    "        \n",
    "    def check(self, item):\n",
    "        \n",
    "        for i in range(self.no_hash):\n",
    "            digest = mmh3.hash(item, i) % self.size\n",
    "            if self.bloom[digest] == False:\n",
    "            \n",
    "                return False\n",
    "        \n",
    "        return True\n",
    "       \n",
    "    def get_size(self, n, p):\n",
    "        \n",
    "        '''\n",
    "        n is the number of elements to be hashed\n",
    "        p : false positive probability\n",
    "        m : bloom fileter size\n",
    "        k : number of hash functions\n",
    "        \n",
    "         '''\n",
    "        \n",
    "        m = int(-(n*math.log(p))/(math.log(2)**2))\n",
    "        \n",
    "        k = int( (m*math.log(2))/n )\n",
    "        return m, k\n",
    "    \n",
    "    \n",
    "        \n",
    "        \n",
    "        \n",
    "        \n",
    "        \n",
    "        "
   ]
  },
  {
   "cell_type": "code",
   "execution_count": 5,
   "metadata": {},
   "outputs": [
    {
     "name": "stdout",
     "output_type": "stream",
     "text": [
      "twitter flase positive\n",
      "humanity flase positive\n",
      "flase positives  2\n",
      "probably present  10\n",
      "true negatives  10\n"
     ]
    }
   ],
   "source": [
    "from random import shuffle\n",
    "n = 20\n",
    "p = 0.05\n",
    "\n",
    "bloom = BloomFilter(n,p)\n",
    "word_present = ['abound','abounds','abundance','abundant','accessable',\n",
    "                'bloom','blossom','bolster','bonny','bonus','bonuses',\n",
    "                'coherent','cohesive','colorful','comely','comfort',\n",
    "                'gems','generosity','generous','generously','genial']\n",
    " \n",
    "# word not added\n",
    "word_absent = ['bluff','cheater','hate','war','humanity',\n",
    "               'racism','hurt','nuke','gloomy','facebook',\n",
    "               'geeksforgeeks','twitter']\n",
    "\n",
    "for word in word_present:\n",
    "    bloom.add(word)\n",
    "    \n",
    "fp = 0\n",
    "tn = 0\n",
    "prob = 0\n",
    "shuffle(word_present)\n",
    "test_word = (word_present)[:10]+word_absent\n",
    "shuffle(test_word)\n",
    "for word in test_word:\n",
    "    if bloom.check(word):\n",
    "        if word in word_absent:\n",
    "            fp += 1\n",
    "            print word,'flase positive'\n",
    "        else:\n",
    "            prob += 1\n",
    "    else:\n",
    "        tn += 1\n",
    "            \n",
    "print 'flase positives ', fp\n",
    "print 'probably present ', prob\n",
    "print 'true negatives ', tn"
   ]
  }
 ],
 "metadata": {
  "kernelspec": {
   "display_name": "Python 2",
   "language": "python",
   "name": "python2"
  },
  "language_info": {
   "codemirror_mode": {
    "name": "ipython",
    "version": 2
   },
   "file_extension": ".py",
   "mimetype": "text/x-python",
   "name": "python",
   "nbconvert_exporter": "python",
   "pygments_lexer": "ipython2",
   "version": "2.7.14"
  }
 },
 "nbformat": 4,
 "nbformat_minor": 2
}
